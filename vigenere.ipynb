{
 "cells": [
  {
   "cell_type": "code",
   "execution_count": 1,
   "metadata": {},
   "outputs": [],
   "source": [
    "def shift_char(c, add_key):\n",
    "    return chr((ord(c) - ord('A') + add_key) % 26 + ord('A'))"
   ]
  },
  {
   "cell_type": "code",
   "execution_count": 2,
   "metadata": {},
   "outputs": [],
   "source": [
    "def encrypt_vigenere(plaintext, key):\n",
    "    # Both should be in capital \n",
    "    encrypted_text = \"\"\n",
    "    key_length = len(key)\n",
    "\n",
    "    for i, char in enumerate(plaintext):\n",
    "        shift = ord(key[i % key_length]) - ord('A')\n",
    "        encrypted_text += shift_char(char, shift)\n",
    "    \n",
    "    return encrypted_text\n",
    "\n",
    "def decrypt_vigenere(ciphertext, key):\n",
    "    plaintext = \"\"\n",
    "    key_length = len(key)\n",
    "    for i, char in enumerate(ciphertext):\n",
    "        shift = ord(key[i % key_length]) - ord('A')\n",
    "        plaintext += shift_char(char, -shift)\n",
    "        \n",
    "    return plaintext"
   ]
  },
  {
   "cell_type": "code",
   "execution_count": 3,
   "metadata": {},
   "outputs": [],
   "source": [
    "# Frequency of English letters\n",
    "english_freq = {\n",
    "    'A': 0.08167, 'B': 0.01492, 'C': 0.02782, 'D': 0.04253, 'E': 0.12702,\n",
    "    'F': 0.02228, 'G': 0.02015, 'H': 0.06094, 'I': 0.06966, 'J': 0.00153,\n",
    "    'K': 0.00772, 'L': 0.04025, 'M': 0.02406, 'N': 0.06749, 'O': 0.07507,\n",
    "    'P': 0.01929, 'Q': 0.00095, 'R': 0.05987, 'S': 0.06327, 'T': 0.09056,\n",
    "    'U': 0.02758, 'V': 0.00978, 'W': 0.02360, 'X': 0.00150, 'Y': 0.01974, \n",
    "    'Z': 0.00074\n",
    "}"
   ]
  },
  {
   "cell_type": "code",
   "execution_count": 4,
   "metadata": {},
   "outputs": [],
   "source": [
    "import re\n",
    "def preprocess(text):\n",
    "    text = re.sub('[^A-Z]', '', text.upper())  # Remove non-alphabet characters and convert to uppercase\n",
    "    return text"
   ]
  },
  {
   "cell_type": "code",
   "execution_count": 5,
   "metadata": {},
   "outputs": [],
   "source": [
    "from collections import Counter\n",
    "\n",
    "def kasiski_examination(ciphertext):\n",
    "    # Search for repeated sequences of length 3 or more\n",
    "    repeated_sequences = {}\n",
    "    for i in range(len(ciphertext) - 2):\n",
    "        seq = ciphertext[i:i + 3]\n",
    "        for j in range(i + 3, len(ciphertext) - 2):\n",
    "            if ciphertext[j:j + 3] == seq:\n",
    "                if seq not in repeated_sequences:\n",
    "                    repeated_sequences[seq] = []\n",
    "                repeated_sequences[seq].append(j - i)\n",
    "    \n",
    "    distances = []\n",
    "    for seq in repeated_sequences:\n",
    "        distances.extend(repeated_sequences[seq])\n",
    "    \n",
    "    key_lengths = Counter()\n",
    "    for distance in distances:\n",
    "        for factor in range(2, 21):\n",
    "            if distance % factor == 0:\n",
    "                key_lengths[factor] += 1\n",
    "    \n",
    "    print(\"Estimated Key Length :\", key_lengths.most_common(1)[0][0])\n",
    "    return key_lengths.most_common(1)[0][0]"
   ]
  },
  {
   "cell_type": "code",
   "execution_count": 6,
   "metadata": {},
   "outputs": [],
   "source": [
    "def decrypt_ceaser_cipher(ciphertext):\n",
    "    text_freq = Counter(ciphertext)\n",
    "    text_len = len(ciphertext)\n",
    "    \n",
    "    chi_squared = {}\n",
    "    for shift in range(26):\n",
    "        chi2 = 0\n",
    "        for char, freq in english_freq.items():\n",
    "            observed = text_freq[shift_char(char, shift)] / text_len\n",
    "            chi2 += ((observed - freq) ** 2) / freq\n",
    "        chi_squared[shift] = chi2\n",
    "    \n",
    "    return min(chi_squared, key=chi_squared.get)"
   ]
  },
  {
   "cell_type": "code",
   "execution_count": 7,
   "metadata": {},
   "outputs": [],
   "source": [
    "# Main decryption function\n",
    "def decrypt_vigenere_cipher(ciphertext, key_length):\n",
    "    ciphertext = preprocess(ciphertext)\n",
    "\n",
    "    key = \"\"\n",
    "    for i in range(key_length):\n",
    "        segment = ciphertext[i::key_length]\n",
    "        key+=chr(decrypt_ceaser_cipher(segment) + ord('A'))\n",
    "    \n",
    "    key = ''.join(key)\n",
    "    print(f\"Estimated key: {key}\")\n",
    "\n",
    "    plaintext = decrypt_vigenere(ciphertext, key)\n",
    "    return plaintext"
   ]
  },
  {
   "cell_type": "code",
   "execution_count": 8,
   "metadata": {},
   "outputs": [
    {
     "name": "stdout",
     "output_type": "stream",
     "text": [
      "Estimated Key Length : 5\n",
      "Estimated key: MALAY\n"
     ]
    },
    {
     "data": {
      "text/plain": [
       "'OURFRIENDSHIPSTARTEDWHENMYBESTFRIENDCAMEINASANEWADMISSIONTOOURCLASSBOTHOFUSWEREHESITANTTOTALKTOEACHOTHERATFIRSTBUTGRADUALLYWEDEVELOPEDABONDIREMEMBERTHEFIRSTTIMEMYBESTFRIENDTRIEDTOTALKTOMEIROLLEDMYEYESBECAUSEITHOUGHTTHEREWASNOUSEANDWEWOULDNTHITITOFFHOWEVERTOMYSURPRISEWEBECAMEBESTFRIENDSBYTHEENDOFTHESESSIONYEARWELEARNEDSOMANYTHINGSABOUTEACHOTHERANDFOUNDOUTTHATOURTASTEINMUSICANDFASHIONWASSOSIMILARSINCETHENTHEREWASNOSTOPPINGUSWESPENTALLOURTIMETOGETHERANDOURFRIENDSHIPBECAMETHETALKOFTHECLASSWEUSEDTOHELPEACHOTHEROUTINSTUDIESANDVISITEDEACHOTHERSHOMESASWELLWEMADESURETOHAVELUNCHTOGETHERONSUNDAYSWEALSOUSEDTOWATCHMOVIESANDCARTOONSTOGETHERONOURSUMMERBREAKWEEVENWENTTOSUMMERCAMPTOGETHERANDMADEALOTOFMEMORIESONCEDURINGTHESUMMERHOLIDAYSSHEALSOACCOMPANIEDMETOMYMATERNALGRANDPARENTSHOMEWEHADAFABULOUSTIMETHEREMOREOVERWEEVENINVENTEDOUROWNHANDSHAKEWHICHONLYBOTHOFUSKNEWTHROUGHTHISBONDILEARNEDTHATFAMILYDOESNTENDWITHBLOODBECAUSEMYBESTFRIENDWASNOLESSTHANMYFAMILYFRIENDSHIPISONERELATIONSHIPTHATYOUCHOOSEUNLIKEALLOTHERRELATIONSHIPS'"
      ]
     },
     "execution_count": 8,
     "metadata": {},
     "output_type": "execute_result"
    }
   ],
   "source": [
    "plaintext=\"\"\" \n",
    "Our friendship started when my best friend came in as a new admission to our class. Both of us were hesitant to talk to each other at first, but gradually we developed a bond. I remember the first time my best friend tried to talk to me; I rolled my eyes because I thought there was no use and we wouldn’t hit it off. However, to my surprise, we became best friends by the end of the session year.\n",
    "We learned so many things about each other and found out that our taste in music and fashion was so similar. Since then, there was no stopping us. We spent all our time together and our friendship became the talk of the class. We used to help each other out in studies and visited each other’s homes as well. We made sure to have lunch together on Sundays. We also used to watch movies and cartoons together.\n",
    "On our summer break, we even went to summer camp together and made a lot of memories. Once during the summer holidays, she also accompanied me to my maternal grandparents’ home. We had a fabulous time there. Moreover, we even invented our own handshake which only both of us knew. Through this bond, I learned that family doesn’t end with blood because my best friend was no less than my family. Friendship is one relationship that you choose, unlike all other relationships.\n",
    "\"\"\"\n",
    "\n",
    "ciphertext = encrypt_vigenere(preprocess(plaintext), \"MALAY\")\n",
    "\n",
    "key_len = kasiski_examination(ciphertext)\n",
    "decrypt_vigenere_cipher(ciphertext, key_len)"
   ]
  }
 ],
 "metadata": {
  "kernelspec": {
   "display_name": "Python 3",
   "language": "python",
   "name": "python3"
  },
  "language_info": {
   "codemirror_mode": {
    "name": "ipython",
    "version": 3
   },
   "file_extension": ".py",
   "mimetype": "text/x-python",
   "name": "python",
   "nbconvert_exporter": "python",
   "pygments_lexer": "ipython3",
   "version": "3.10.12"
  }
 },
 "nbformat": 4,
 "nbformat_minor": 2
}
